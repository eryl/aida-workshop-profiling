{
 "cells": [
  {
   "cell_type": "markdown",
   "metadata": {},
   "source": [
    "# Optimizing training\n",
    "\n",
    "In this notebook we'll look at how we can optimize an experiment. We'll use this notebook more like an interactive shell, the code will be in batch scripts which you can download inside this notebook. Note that this assumes a linux environment where the necessary python dependencies are already installed. If you run this locally, it is suggested that you create a conda environment using the `environment.yml` in this repository.\n",
    "\n",
    "Exectute the following cell if you are running this on colab to copy the training scripts to the virtual machine."
   ]
  },
  {
   "cell_type": "code",
   "execution_count": null,
   "metadata": {},
   "outputs": [],
   "source": [
    "!wget "
   ]
  },
  {
   "cell_type": "markdown",
   "metadata": {},
   "source": [
    "We'll now try running this script and monitor performance"
   ]
  },
  {
   "cell_type": "markdown",
   "metadata": {},
   "source": [
    "!python "
   ]
  }
 ],
 "metadata": {
  "kernelspec": {
   "display_name": "dataloading_workshop",
   "language": "python",
   "name": "python3"
  },
  "language_info": {
   "name": "python",
   "version": "3.11.8"
  }
 },
 "nbformat": 4,
 "nbformat_minor": 2
}
